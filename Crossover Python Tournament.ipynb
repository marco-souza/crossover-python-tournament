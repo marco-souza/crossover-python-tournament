{
 "cells": [
  {
   "cell_type": "markdown",
   "metadata": {},
   "source": [
    "# Python Tournament Software Archtect\n",
    "\n",
    "**Data**: 15.09.2018 - 10 am (UTC-3)\n",
    "\n"
   ]
  },
  {
   "cell_type": "markdown",
   "metadata": {},
   "source": [
    "## Question 1\n",
    "\n",
    "> To help get to know you even better - please record a 2-3 minutes long audio file telling us what you believe are your top 3 skills (from your previous work experience) that will help you the most in this new position. You must do this section before proceeding to the next section. You will not have an opportunity to return to the English test if you proceed to the next section. Applications without audio submissions will not be considered. \n",
    ">\n",
    "> Record the audio on your local computer, put it in a cloud file sharing service such as Google Drive and copy the URL of your audio file into this question answer box. Please make sure the file is public (anyone with the link can view).\n",
    ">\n",
    "> You can also use one of the following free online voice recording services: just click on one of the links below. Note: these tools are flaky and can sometimes break under heavy load so if they are not working for you, please use the first solution by recording locally and uploading to Google Drive. \n",
    ">\n",
    "> Once you are done make sure to copy the link to the audio and put it in the answer box.  \n",
    "\n",
    "\n",
    "### Topics\n",
    "\n",
    "- Name\n",
    "- Where I live\n",
    "- What I do\n",
    "- Give some context about current position\n",
    "- top 3 skills to hel in that position\n",
    "\n",
    "> Hi, My name is Marco Antônio. I'm a developer since 2009, almost 10 years of programming, and nowadays I'm working as a System Engineer at Smarttbot in Brazil.\n",
    ">\n",
    ">In my current job, I'm rewriting one of our legacy systems. This system is basically a Crawler to get financial information about Brazilian companies to generate insights about their economic situations. It was created 11 years ago using ASP Classic... No one in my company wanted to do that, so I decide to take the challenge of rebuild the entire system using anything I wanted, so I decided to use Python 3.\n",
    ">\n",
    ">I would say that my top 3 skills taken from that experience are...\n",
    ">\n",
    ">Well, in that job I had to learn a lot about cloud like how to create my application stateless, hot to use CI/CD to auto-deploy my code, how to use AWS Services, how to think about my infrastructure, and I believe it is great, because I see DevOps more as a mindset that a Job Title... Every developer should know at least a little about it.\n",
    ">\n",
    ">Another skill that I'm proud of is... Code Quality. I had to study a lot about design patterns, unit tests, integration tests, how to implement steps in a CI pipeline to ensure code style, documentation and test coverage. And also... python made so pleasant to write unit test with its standard library that I feel really bad in write python code without testing it.\n",
    ">\n",
    ">My third skill is Communication, which I had to exercise a lot in my current job... I'm a technical leader of some projects and I had to teach new developers, explain some money-related decision to the board, explain technical decisions to others developers, give and receive feedback, so I had to improve my communication skills a lot in my job and I would say that is a great skill to have.... mKaes life easier :)\n",
    "\n",
    "\n",
    "## QUestion 3\n",
    "\n",
    "|Question| "
   ]
  },
  {
   "cell_type": "code",
   "execution_count": 4,
   "metadata": {},
   "outputs": [
    {
     "name": "stdout",
     "output_type": "stream",
     "text": [
      "[0, 1, 2, 3, 4, 5, 6, 7, 8, 9]\n",
      "[2, 8, 5, 0, 1, 4, 7, 3, 9, 6]\n"
     ]
    }
   ],
   "source": [
    "from random import sample\n",
    "\n",
    "a = list(range(10))\n",
    "print(a)\n",
    "print(sample(a, len(a)))"
   ]
  },
  {
   "cell_type": "code",
   "execution_count": 7,
   "metadata": {},
   "outputs": [],
   "source": [
    "print(type(range(12)))\n",
    "\n",
    "print(type(xrange(3)))"
   ]
  },
  {
   "cell_type": "code",
   "execution_count": 16,
   "metadata": {},
   "outputs": [
    {
     "name": "stdout",
     "output_type": "stream",
     "text": [
      "[2, 3, 4]\n"
     ]
    }
   ],
   "source": [
    "from random import choice\n",
    "choice(list(range(4)))\n",
    "a = list(range(40))\n",
    "print(a[2:5])\n"
   ]
  },
  {
   "cell_type": "code",
   "execution_count": 50,
   "metadata": {},
   "outputs": [
    {
     "name": "stdout",
     "output_type": "stream",
     "text": [
      "5\n",
      "4\n",
      "1\n",
      "3\n",
      "3\n"
     ]
    },
    {
     "data": {
      "text/plain": [
       "[None, None, None, None, None]"
      ]
     },
     "execution_count": 50,
     "metadata": {},
     "output_type": "execute_result"
    }
   ],
   "source": [
    "def numberOfWaysToPay(denominationCount, denominations, rent):\n",
    "    # print(denominationCount, denominations, rent)\n",
    "    if not rent: \n",
    "        return 1\n",
    "    elif not denominationCount or rent < 0:\n",
    "        return 0\n",
    "    else:\n",
    "        vary_rent = numberOfWaysToPay(denominationCount, denominations, \n",
    "                                      rent - denominations[0])\n",
    "        vary_denominations = numberOfWaysToPay(denominationCount - 1, \n",
    "                                               denominations[1:], rent)\n",
    "        return  vary_rent + vary_denominations\n",
    "    \n",
    "inputs = [(3, [1, 2, 5], 6),\n",
    "          (3, [1, 5, 10], 11),\n",
    "          (1, [0], 0),\n",
    "          (2, [1, 2], 4),\n",
    "          (3, [1, 2, 3], 3), ]\n",
    "\n",
    "[print(numberOfWaysToPay(*i)) for i in inputs]"
   ]
  },
  {
   "cell_type": "code",
   "execution_count": null,
   "metadata": {},
   "outputs": [],
   "source": []
  }
 ],
 "metadata": {
  "kernelspec": {
   "display_name": "Python 3",
   "language": "python",
   "name": "python3"
  },
  "language_info": {
   "codemirror_mode": {
    "name": "ipython",
    "version": 3
   },
   "file_extension": ".py",
   "mimetype": "text/x-python",
   "name": "python",
   "nbconvert_exporter": "python",
   "pygments_lexer": "ipython3",
   "version": "3.7.0"
  }
 },
 "nbformat": 4,
 "nbformat_minor": 2
}
