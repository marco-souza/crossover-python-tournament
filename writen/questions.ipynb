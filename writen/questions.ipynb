{
 "cells": [
  {
   "cell_type": "markdown",
   "metadata": {},
   "source": [
    "# Intro\n",
    "\n",
    "Next Questions are for one project. Please start reading and answering questions in the same order, because they will increase your knowledge about it incrementally. The First question is a hands-on coding exercise. Remaining questions are free responses and ask how you would approach the problem and what solutions you'd consider without any implementation.\n",
    "\n",
    "All Questions are mandatory.\n",
    "Make sure to answer all 6 questions before submission. Go to first question\n",
    "\n",
    "---\n",
    "\n",
    "## Q.1\n",
    "\n",
    "We have prepared a project assessment. Please download the project from this link. Review the Readme file with instructions on how to proceed. You can use an IDE of your choice. Once completed, please zip the project and store it in a shared location where the Crossover team can access and download the project for evaluation. Please add your link to the shared file in the text box below.\n",
    "\n",
    "Previous Next question\n",
    "\n",
    "---\n",
    "\n",
    "## Q.2\n",
    "\n",
    "There are massive requests for historical charts, because each time we aggregate data from hourly records to generate daily data, this operation overloads the server, Please describe how to optimize this operation without adding new servers. The description should cover all details in application layers or database -if required- and any edge case.\n",
    "\n",
    "Previous Next question\n",
    "\n",
    "## A.2\n",
    "\n",
    "It´s possible to identify and pre-cache some common aggregations, to avoid a re-works for the server every time. The result for commons aggregations could be saved in an in-memory database, like Redis, and, before recalculating an aggregation, we could check if it's was calculated before. \n",
    "\n",
    "Other option would be to index our historical data in a Search Engine, like Elasticsearch, and delegate the optimization details to this search engine and just care about integrations with others tools and systems. It's probably faster and more secure than build our own search engine.\n",
    "\n",
    "---\n",
    "\n",
    "## Q.3\n",
    "\n",
    "New panels report energy details in watts so Cross-Solar team lead asked to keep track of energy units in watts not kilowatts, please describe how to perform this change without affecting old panels, because old panels will keep sending units in kilowatts. The description should cover all details in application layers or database -if required- and any edge case.\n",
    "\n",
    "Previous Next question\n",
    "\n",
    "---\n",
    "\n",
    "## Q.4\n",
    "\n",
    "Describe one hard technical problem you faced in your last major project.\n",
    "Please describe:\n",
    "- What was the problem and the impact of it?\n",
    "- What were the solutions considered and final choice?\n",
    "- What was the outcome?\n",
    "- What did you learn from solving this problem and what would you re-use in your future projects?\n",
    "\n",
    "Previous Next question\n",
    "\n",
    "---\n",
    "\n",
    "## Q.5\n",
    "\n",
    "Consider an existing, business-critical application you have been asked to add new features to. List 3 first steps you would be looking for when details about the application/source code for you to work with would be shared with you. Choose one of the steps and describe how would you handle the situation where you don't have anyone who could assist with it.\n",
    "\n",
    "Previous Next question\n",
    "\n",
    "---\n",
    "\n",
    "## Q.6\n",
    "\n",
    "CCAT Test\n",
    "\n",
    "Please use the below link to complete the CCAT Test which is also mandatory in order to be considered for the final interview stage. Make sure you use your same name/email used to apply for this position. We will automatically look up your CCAT scores using this email address so it is vital the email addresses match.\n",
    "\n",
    "http://www.ondemandassessment.com/verify/apply/eBDeDmS/DhnwEbnT\n",
    "\n",
    "Note: If you’ve already taken CCAT with Crossover using the same email address, there is no need to take CCAT again. \n",
    "\n",
    "Criteria Cognitive Aptitude Test\n",
    "\n",
    "The CCAT measures cognitive aptitude, or general intelligence. This test provides an indication of a subject’s ability to solve problems, digest and apply information, learn new skills, and think critically. Cognitive aptitude is one of the most accurate job predictors of job success for any position.\n",
    "\n",
    "In the space below, you may enter anything you like to submit the test.\n",
    "\n",
    "Previous Next question\n"
   ]
  },
  {
   "cell_type": "code",
   "execution_count": 1,
   "metadata": {},
   "outputs": [
    {
     "name": "stdout",
     "output_type": "stream",
     "text": [
      "2018-09-15 16:48:53.832708\n",
      "2018-09-15\n"
     ]
    }
   ],
   "source": [
    "from datetime import datetime, time, timedelta\n",
    "\n",
    "print(datetime.now())\n",
    "print(datetime.now().date())"
   ]
  },
  {
   "cell_type": "code",
   "execution_count": null,
   "metadata": {},
   "outputs": [],
   "source": []
  }
 ],
 "metadata": {
  "kernelspec": {
   "display_name": "Python 3",
   "language": "python",
   "name": "python3"
  },
  "language_info": {
   "codemirror_mode": {
    "name": "ipython",
    "version": 3
   },
   "file_extension": ".py",
   "mimetype": "text/x-python",
   "name": "python",
   "nbconvert_exporter": "python",
   "pygments_lexer": "ipython3",
   "version": "3.7.0"
  }
 },
 "nbformat": 4,
 "nbformat_minor": 2
}
